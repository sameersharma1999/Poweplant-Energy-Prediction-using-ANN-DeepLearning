{
 "cells": [
  {
   "cell_type": "code",
   "execution_count": 1,
   "metadata": {},
   "outputs": [],
   "source": [
    "import pandas as pd\n",
    "import numpy as np\n",
    "import tensorflow as tf\n",
    "from sklearn.model_selection import train_test_split\n",
    "from sklearn.preprocessing import StandardScaler\n",
    "from tensorflow.keras.models import Sequential\n",
    "from tensorflow.keras.layers import Dense \n",
    "from sklearn.metrics import mean_squared_error\n",
    "from tensorflow.keras.models import load_model\n",
    "\n",
    "import warnings \n",
    "warnings.filterwarnings('ignore')"
   ]
  },
  {
   "cell_type": "code",
   "execution_count": 2,
   "metadata": {},
   "outputs": [],
   "source": [
    "df = pd.read_excel(io='DataSet.xlsx', sheet_name='Sheet5')"
   ]
  },
  {
   "cell_type": "code",
   "execution_count": 3,
   "metadata": {},
   "outputs": [
    {
     "data": {
      "text/html": [
       "<div>\n",
       "<style scoped>\n",
       "    .dataframe tbody tr th:only-of-type {\n",
       "        vertical-align: middle;\n",
       "    }\n",
       "\n",
       "    .dataframe tbody tr th {\n",
       "        vertical-align: top;\n",
       "    }\n",
       "\n",
       "    .dataframe thead th {\n",
       "        text-align: right;\n",
       "    }\n",
       "</style>\n",
       "<table border=\"1\" class=\"dataframe\">\n",
       "  <thead>\n",
       "    <tr style=\"text-align: right;\">\n",
       "      <th></th>\n",
       "      <th>AT</th>\n",
       "      <th>V</th>\n",
       "      <th>AP</th>\n",
       "      <th>RH</th>\n",
       "      <th>PE</th>\n",
       "    </tr>\n",
       "  </thead>\n",
       "  <tbody>\n",
       "    <tr>\n",
       "      <th>0</th>\n",
       "      <td>8.34</td>\n",
       "      <td>40.77</td>\n",
       "      <td>1010.84</td>\n",
       "      <td>90.01</td>\n",
       "      <td>480.48</td>\n",
       "    </tr>\n",
       "    <tr>\n",
       "      <th>1</th>\n",
       "      <td>23.64</td>\n",
       "      <td>58.49</td>\n",
       "      <td>1011.40</td>\n",
       "      <td>74.20</td>\n",
       "      <td>445.75</td>\n",
       "    </tr>\n",
       "    <tr>\n",
       "      <th>2</th>\n",
       "      <td>29.74</td>\n",
       "      <td>56.90</td>\n",
       "      <td>1007.15</td>\n",
       "      <td>41.91</td>\n",
       "      <td>438.76</td>\n",
       "    </tr>\n",
       "    <tr>\n",
       "      <th>3</th>\n",
       "      <td>19.07</td>\n",
       "      <td>49.69</td>\n",
       "      <td>1007.22</td>\n",
       "      <td>76.79</td>\n",
       "      <td>453.09</td>\n",
       "    </tr>\n",
       "    <tr>\n",
       "      <th>4</th>\n",
       "      <td>11.80</td>\n",
       "      <td>40.66</td>\n",
       "      <td>1017.13</td>\n",
       "      <td>97.20</td>\n",
       "      <td>464.43</td>\n",
       "    </tr>\n",
       "  </tbody>\n",
       "</table>\n",
       "</div>"
      ],
      "text/plain": [
       "      AT      V       AP     RH      PE\n",
       "0   8.34  40.77  1010.84  90.01  480.48\n",
       "1  23.64  58.49  1011.40  74.20  445.75\n",
       "2  29.74  56.90  1007.15  41.91  438.76\n",
       "3  19.07  49.69  1007.22  76.79  453.09\n",
       "4  11.80  40.66  1017.13  97.20  464.43"
      ]
     },
     "execution_count": 3,
     "metadata": {},
     "output_type": "execute_result"
    }
   ],
   "source": [
    "df.head()"
   ]
  },
  {
   "cell_type": "code",
   "execution_count": 4,
   "metadata": {},
   "outputs": [
    {
     "data": {
      "text/plain": [
       "(9568, 5)"
      ]
     },
     "execution_count": 4,
     "metadata": {},
     "output_type": "execute_result"
    }
   ],
   "source": [
    "df.shape"
   ]
  },
  {
   "cell_type": "code",
   "execution_count": 5,
   "metadata": {},
   "outputs": [
    {
     "name": "stdout",
     "output_type": "stream",
     "text": [
      "<class 'pandas.core.frame.DataFrame'>\n",
      "RangeIndex: 9568 entries, 0 to 9567\n",
      "Data columns (total 5 columns):\n",
      " #   Column  Non-Null Count  Dtype  \n",
      "---  ------  --------------  -----  \n",
      " 0   AT      9568 non-null   float64\n",
      " 1   V       9568 non-null   float64\n",
      " 2   AP      9568 non-null   float64\n",
      " 3   RH      9568 non-null   float64\n",
      " 4   PE      9568 non-null   float64\n",
      "dtypes: float64(5)\n",
      "memory usage: 373.9 KB\n"
     ]
    }
   ],
   "source": [
    "df.info()"
   ]
  },
  {
   "cell_type": "code",
   "execution_count": 6,
   "metadata": {},
   "outputs": [
    {
     "data": {
      "text/plain": [
       "AT    0\n",
       "V     0\n",
       "AP    0\n",
       "RH    0\n",
       "PE    0\n",
       "dtype: int64"
      ]
     },
     "execution_count": 6,
     "metadata": {},
     "output_type": "execute_result"
    }
   ],
   "source": [
    "df.isnull().sum()"
   ]
  },
  {
   "cell_type": "code",
   "execution_count": 7,
   "metadata": {},
   "outputs": [],
   "source": [
    "# <<--- Independent and Dependent Variables --->>\n",
    "\n",
    "X = df.iloc[:, :-1]\n",
    "Y = df['PE']"
   ]
  },
  {
   "cell_type": "code",
   "execution_count": 8,
   "metadata": {},
   "outputs": [],
   "source": [
    "# <<-- Train Test Split -->>\n",
    "\n",
    "x_train, x_test, y_train, y_test = train_test_split(X, Y, train_size=0.8, test_size=0.2, random_state=0)"
   ]
  },
  {
   "cell_type": "code",
   "execution_count": 9,
   "metadata": {},
   "outputs": [],
   "source": [
    "# <<-- Scale Data -->>\n",
    "\n",
    "ss = StandardScaler()\n",
    "x_train = ss.fit_transform(x_train)\n",
    "x_test = ss.transform(x_test)"
   ]
  },
  {
   "cell_type": "code",
   "execution_count": 10,
   "metadata": {},
   "outputs": [],
   "source": [
    "# <<-- Make Neural Network -->>\n",
    "\n",
    "ann = Sequential()\n",
    "\n",
    "layer1 = Dense(units=6, activation='relu')  # First Hidden Layer\n",
    "layer2 = Dense(units=6, activation='relu')  # Second Hidden Layer\n",
    "output_layer = Dense(units=1)  # Output Layer\n",
    "\n",
    "# NOTE:- In ANN for regression we donot apply any activation function in output layer.\n",
    "\n",
    "# Add all layers to ANN model\n",
    "\n",
    "ann.add(layer1)\n",
    "ann.add(layer2)\n",
    "ann.add(output_layer)"
   ]
  },
  {
   "cell_type": "code",
   "execution_count": 11,
   "metadata": {},
   "outputs": [
    {
     "name": "stdout",
     "output_type": "stream",
     "text": [
      "Epoch 1/100\n",
      "240/240 [==============================] - 0s 2ms/step - loss: 203428.8750 - mse: 203428.8750\n",
      "Epoch 2/100\n",
      "240/240 [==============================] - 0s 2ms/step - loss: 186506.7344 - mse: 186506.7344\n",
      "Epoch 3/100\n",
      "240/240 [==============================] - 0s 2ms/step - loss: 144650.2500 - mse: 144650.2500\n",
      "Epoch 4/100\n",
      "240/240 [==============================] - 0s 2ms/step - loss: 85780.7422 - mse: 85780.7422\n",
      "Epoch 5/100\n",
      "240/240 [==============================] - 0s 2ms/step - loss: 41805.6250 - mse: 41805.6250\n",
      "Epoch 6/100\n",
      "240/240 [==============================] - 0s 2ms/step - loss: 23117.4824 - mse: 23117.4824\n",
      "Epoch 7/100\n",
      "240/240 [==============================] - 0s 2ms/step - loss: 16409.5312 - mse: 16409.5312\n",
      "Epoch 8/100\n",
      "240/240 [==============================] - 0s 2ms/step - loss: 12918.0977 - mse: 12918.0977\n",
      "Epoch 9/100\n",
      "240/240 [==============================] - 0s 2ms/step - loss: 10202.4336 - mse: 10202.4336\n",
      "Epoch 10/100\n",
      "240/240 [==============================] - 0s 2ms/step - loss: 7882.2461 - mse: 7882.2461\n",
      "Epoch 11/100\n",
      "240/240 [==============================] - 0s 2ms/step - loss: 5894.2607 - mse: 5894.2607\n",
      "Epoch 12/100\n",
      "240/240 [==============================] - 0s 2ms/step - loss: 4246.9297 - mse: 4246.9297\n",
      "Epoch 13/100\n",
      "240/240 [==============================] - 0s 2ms/step - loss: 2943.7744 - mse: 2943.7744\n",
      "Epoch 14/100\n",
      "240/240 [==============================] - 0s 2ms/step - loss: 1980.3807 - mse: 1980.3807\n",
      "Epoch 15/100\n",
      "240/240 [==============================] - 1s 2ms/step - loss: 1334.0123 - mse: 1334.0123\n",
      "Epoch 16/100\n",
      "240/240 [==============================] - 0s 2ms/step - loss: 916.0783 - mse: 916.0783\n",
      "Epoch 17/100\n",
      "240/240 [==============================] - 1s 2ms/step - loss: 636.9037 - mse: 636.9037\n",
      "Epoch 18/100\n",
      "240/240 [==============================] - 1s 2ms/step - loss: 448.3997 - mse: 448.3997\n",
      "Epoch 19/100\n",
      "240/240 [==============================] - 1s 2ms/step - loss: 321.4404 - mse: 321.4404\n",
      "Epoch 20/100\n",
      "240/240 [==============================] - 0s 2ms/step - loss: 236.8091 - mse: 236.8091\n",
      "Epoch 21/100\n",
      "240/240 [==============================] - 0s 2ms/step - loss: 179.1433 - mse: 179.1433\n",
      "Epoch 22/100\n",
      "240/240 [==============================] - 1s 2ms/step - loss: 139.6753 - mse: 139.6753\n",
      "Epoch 23/100\n",
      "240/240 [==============================] - 1s 2ms/step - loss: 111.6672 - mse: 111.6672\n",
      "Epoch 24/100\n",
      "240/240 [==============================] - 0s 2ms/step - loss: 91.1478 - mse: 91.1478\n",
      "Epoch 25/100\n",
      "240/240 [==============================] - 1s 2ms/step - loss: 75.2897 - mse: 75.2897\n",
      "Epoch 26/100\n",
      "240/240 [==============================] - 1s 2ms/step - loss: 62.9752 - mse: 62.9752\n",
      "Epoch 27/100\n",
      "240/240 [==============================] - 0s 2ms/step - loss: 53.2057 - mse: 53.2057\n",
      "Epoch 28/100\n",
      "240/240 [==============================] - 1s 2ms/step - loss: 45.8609 - mse: 45.8609\n",
      "Epoch 29/100\n",
      "240/240 [==============================] - 1s 2ms/step - loss: 40.1621 - mse: 40.1621\n",
      "Epoch 30/100\n",
      "240/240 [==============================] - 1s 2ms/step - loss: 35.8106 - mse: 35.8106\n",
      "Epoch 31/100\n",
      "240/240 [==============================] - 1s 2ms/step - loss: 32.4896 - mse: 32.4896\n",
      "Epoch 32/100\n",
      "240/240 [==============================] - 0s 2ms/step - loss: 29.9955 - mse: 29.9955\n",
      "Epoch 33/100\n",
      "240/240 [==============================] - 1s 2ms/step - loss: 28.0330 - mse: 28.0330\n",
      "Epoch 34/100\n",
      "240/240 [==============================] - 0s 2ms/step - loss: 26.3658 - mse: 26.3658\n",
      "Epoch 35/100\n",
      "240/240 [==============================] - 0s 2ms/step - loss: 25.0813 - mse: 25.0813\n",
      "Epoch 36/100\n",
      "240/240 [==============================] - 0s 1ms/step - loss: 24.2896 - mse: 24.2896\n",
      "Epoch 37/100\n",
      "240/240 [==============================] - 0s 2ms/step - loss: 23.6020 - mse: 23.6020\n",
      "Epoch 38/100\n",
      "240/240 [==============================] - 0s 2ms/step - loss: 23.0810 - mse: 23.0810\n",
      "Epoch 39/100\n",
      "240/240 [==============================] - 0s 2ms/step - loss: 22.7060 - mse: 22.7060\n",
      "Epoch 40/100\n",
      "240/240 [==============================] - 1s 2ms/step - loss: 22.3478 - mse: 22.3478\n",
      "Epoch 41/100\n",
      "240/240 [==============================] - 1s 2ms/step - loss: 22.1120 - mse: 22.1120\n",
      "Epoch 42/100\n",
      "240/240 [==============================] - 0s 2ms/step - loss: 22.0180 - mse: 22.0180\n",
      "Epoch 43/100\n",
      "240/240 [==============================] - 1s 2ms/step - loss: 21.7332 - mse: 21.7332\n",
      "Epoch 44/100\n",
      "240/240 [==============================] - 1s 2ms/step - loss: 21.6749 - mse: 21.6749\n",
      "Epoch 45/100\n",
      "240/240 [==============================] - 1s 2ms/step - loss: 21.4174 - mse: 21.4174\n",
      "Epoch 46/100\n",
      "240/240 [==============================] - 0s 2ms/step - loss: 21.3201 - mse: 21.3201\n",
      "Epoch 47/100\n",
      "240/240 [==============================] - 1s 2ms/step - loss: 21.3658 - mse: 21.3658\n",
      "Epoch 48/100\n",
      "240/240 [==============================] - 1s 2ms/step - loss: 21.2863 - mse: 21.2863\n",
      "Epoch 49/100\n",
      "240/240 [==============================] - 1s 2ms/step - loss: 21.2896 - mse: 21.2896\n",
      "Epoch 50/100\n",
      "240/240 [==============================] - 0s 2ms/step - loss: 21.2324 - mse: 21.2324\n",
      "Epoch 51/100\n",
      "240/240 [==============================] - 1s 2ms/step - loss: 21.0377 - mse: 21.0377\n",
      "Epoch 52/100\n",
      "240/240 [==============================] - 1s 2ms/step - loss: 21.3216 - mse: 21.3216\n",
      "Epoch 53/100\n",
      "240/240 [==============================] - 1s 2ms/step - loss: 21.2137 - mse: 21.2137\n",
      "Epoch 54/100\n",
      "240/240 [==============================] - 1s 2ms/step - loss: 21.0698 - mse: 21.0698\n",
      "Epoch 55/100\n",
      "240/240 [==============================] - 1s 2ms/step - loss: 21.1261 - mse: 21.1261\n",
      "Epoch 56/100\n",
      "240/240 [==============================] - 1s 2ms/step - loss: 21.0904 - mse: 21.0904\n",
      "Epoch 57/100\n",
      "240/240 [==============================] - 1s 2ms/step - loss: 21.1520 - mse: 21.1520\n",
      "Epoch 58/100\n",
      "240/240 [==============================] - 1s 2ms/step - loss: 21.0185 - mse: 21.0185\n",
      "Epoch 59/100\n",
      "240/240 [==============================] - 1s 2ms/step - loss: 21.1089 - mse: 21.1089\n",
      "Epoch 60/100\n",
      "240/240 [==============================] - 1s 2ms/step - loss: 21.0163 - mse: 21.0163\n",
      "Epoch 61/100\n",
      "240/240 [==============================] - 1s 2ms/step - loss: 21.1323 - mse: 21.1323\n",
      "Epoch 62/100\n",
      "240/240 [==============================] - 1s 2ms/step - loss: 21.0562 - mse: 21.0562\n",
      "Epoch 63/100\n",
      "240/240 [==============================] - 1s 2ms/step - loss: 20.9641 - mse: 20.9641\n",
      "Epoch 64/100\n",
      "240/240 [==============================] - 1s 2ms/step - loss: 21.0691 - mse: 21.0691\n",
      "Epoch 65/100\n",
      "240/240 [==============================] - 1s 2ms/step - loss: 20.9402 - mse: 20.9402\n",
      "Epoch 66/100\n",
      "240/240 [==============================] - 1s 2ms/step - loss: 20.9074 - mse: 20.9074\n",
      "Epoch 67/100\n",
      "240/240 [==============================] - 1s 2ms/step - loss: 21.0036 - mse: 21.0036\n",
      "Epoch 68/100\n",
      "240/240 [==============================] - 0s 2ms/step - loss: 20.9761 - mse: 20.9761\n",
      "Epoch 69/100\n",
      "240/240 [==============================] - 1s 2ms/step - loss: 20.9311 - mse: 20.9311\n",
      "Epoch 70/100\n",
      "240/240 [==============================] - 1s 2ms/step - loss: 21.0100 - mse: 21.0100\n",
      "Epoch 71/100\n",
      "240/240 [==============================] - 1s 2ms/step - loss: 21.0709 - mse: 21.0709\n",
      "Epoch 72/100\n",
      "240/240 [==============================] - 1s 2ms/step - loss: 20.9120 - mse: 20.9120\n",
      "Epoch 73/100\n",
      "240/240 [==============================] - 1s 2ms/step - loss: 20.9607 - mse: 20.9607\n",
      "Epoch 74/100\n",
      "240/240 [==============================] - 1s 2ms/step - loss: 20.9729 - mse: 20.9729\n",
      "Epoch 75/100\n",
      "240/240 [==============================] - 0s 2ms/step - loss: 21.0624 - mse: 21.0624\n",
      "Epoch 76/100\n",
      "240/240 [==============================] - 0s 2ms/step - loss: 20.9125 - mse: 20.9125\n",
      "Epoch 77/100\n",
      "240/240 [==============================] - 0s 2ms/step - loss: 21.0110 - mse: 21.0110\n",
      "Epoch 78/100\n",
      "240/240 [==============================] - 0s 2ms/step - loss: 20.9692 - mse: 20.9692\n",
      "Epoch 79/100\n",
      "240/240 [==============================] - 1s 2ms/step - loss: 21.1570 - mse: 21.1570\n",
      "Epoch 80/100\n",
      "240/240 [==============================] - 1s 2ms/step - loss: 20.8960 - mse: 20.8960\n",
      "Epoch 81/100\n",
      "240/240 [==============================] - 1s 2ms/step - loss: 20.9089 - mse: 20.9089\n",
      "Epoch 82/100\n"
     ]
    },
    {
     "name": "stdout",
     "output_type": "stream",
     "text": [
      "240/240 [==============================] - 1s 2ms/step - loss: 20.9559 - mse: 20.9559\n",
      "Epoch 83/100\n",
      "240/240 [==============================] - 1s 2ms/step - loss: 20.8421 - mse: 20.8421\n",
      "Epoch 84/100\n",
      "240/240 [==============================] - 1s 2ms/step - loss: 20.9735 - mse: 20.9735\n",
      "Epoch 85/100\n",
      "240/240 [==============================] - 1s 2ms/step - loss: 20.7688 - mse: 20.7688\n",
      "Epoch 86/100\n",
      "240/240 [==============================] - 0s 2ms/step - loss: 20.8628 - mse: 20.8628\n",
      "Epoch 87/100\n",
      "240/240 [==============================] - 1s 2ms/step - loss: 20.7997 - mse: 20.7997\n",
      "Epoch 88/100\n",
      "240/240 [==============================] - 1s 2ms/step - loss: 20.8275 - mse: 20.8275\n",
      "Epoch 89/100\n",
      "240/240 [==============================] - 1s 2ms/step - loss: 20.7940 - mse: 20.7940\n",
      "Epoch 90/100\n",
      "240/240 [==============================] - 0s 2ms/step - loss: 20.7476 - mse: 20.7476\n",
      "Epoch 91/100\n",
      "240/240 [==============================] - 1s 2ms/step - loss: 20.9084 - mse: 20.9084\n",
      "Epoch 92/100\n",
      "240/240 [==============================] - 1s 2ms/step - loss: 20.7250 - mse: 20.7250\n",
      "Epoch 93/100\n",
      "240/240 [==============================] - 1s 2ms/step - loss: 20.8183 - mse: 20.8183\n",
      "Epoch 94/100\n",
      "240/240 [==============================] - 1s 2ms/step - loss: 20.8086 - mse: 20.8086\n",
      "Epoch 95/100\n",
      "240/240 [==============================] - 0s 2ms/step - loss: 20.8876 - mse: 20.8876\n",
      "Epoch 96/100\n",
      "240/240 [==============================] - 1s 2ms/step - loss: 20.7068 - mse: 20.7068\n",
      "Epoch 97/100\n",
      "240/240 [==============================] - 1s 2ms/step - loss: 20.7969 - mse: 20.7969\n",
      "Epoch 98/100\n",
      "240/240 [==============================] - 1s 2ms/step - loss: 20.7139 - mse: 20.7139\n",
      "Epoch 99/100\n",
      "240/240 [==============================] - 1s 2ms/step - loss: 20.6877 - mse: 20.6877\n",
      "Epoch 100/100\n",
      "240/240 [==============================] - 0s 2ms/step - loss: 20.6217 - mse: 20.6217\n"
     ]
    },
    {
     "data": {
      "text/plain": [
       "<tensorflow.python.keras.callbacks.History at 0x22c4d6ba3c8>"
      ]
     },
     "execution_count": 11,
     "metadata": {},
     "output_type": "execute_result"
    }
   ],
   "source": [
    "# <<-- Train Neural Network --->>\n",
    "\n",
    "\"\"\"\n",
    "The loss function here we will using is 'mean_squared_error'\n",
    "and in mertics we will also use 'mse'.\n",
    "\"\"\"\n",
    "\n",
    "ann.compile(optimizer='adam', loss='mean_squared_error', metrics='mse')  # Compile ANN\n",
    "\n",
    "ann.fit(x_train, y_train, batch_size=32, epochs=100) # Train ANN"
   ]
  },
  {
   "cell_type": "code",
   "execution_count": 12,
   "metadata": {},
   "outputs": [],
   "source": [
    "# Preidict values\n",
    "\n",
    "y_pred = ann.predict(x_test)"
   ]
  },
  {
   "cell_type": "code",
   "execution_count": 13,
   "metadata": {},
   "outputs": [
    {
     "data": {
      "text/plain": [
       "array([[433.0891 ],\n",
       "       [447.6351 ],\n",
       "       [445.18173],\n",
       "       ...,\n",
       "       [455.40164],\n",
       "       [445.8869 ],\n",
       "       [431.91504]], dtype=float32)"
      ]
     },
     "execution_count": 13,
     "metadata": {},
     "output_type": "execute_result"
    }
   ],
   "source": [
    "y_pred"
   ]
  },
  {
   "cell_type": "code",
   "execution_count": 14,
   "metadata": {},
   "outputs": [],
   "source": [
    "y_pred = [i[0] for i in y_pred]"
   ]
  },
  {
   "cell_type": "code",
   "execution_count": 15,
   "metadata": {},
   "outputs": [
    {
     "data": {
      "text/plain": [
       "19.630571339708002"
      ]
     },
     "execution_count": 15,
     "metadata": {},
     "output_type": "execute_result"
    }
   ],
   "source": [
    "mean_squared_error(y_true=y_test, y_pred=y_pred)"
   ]
  },
  {
   "cell_type": "code",
   "execution_count": 18,
   "metadata": {},
   "outputs": [],
   "source": [
    "# <<-- Save Model in HDF5 file format -->>\n",
    "\n",
    "ann.save(\"Model.h5\") "
   ]
  },
  {
   "cell_type": "code",
   "execution_count": 19,
   "metadata": {},
   "outputs": [
    {
     "name": "stdout",
     "output_type": "stream",
     "text": [
      "60/60 [==============================] - 0s 1ms/step - loss: 19.6306 - mean_squared_error: 19.6306\n"
     ]
    }
   ],
   "source": [
    "# <<-- Load the saved model -->>\n",
    "\n",
    "loaded_model = load_model(\"Model.h5\") # Load the model\n",
    "loss, accuracy = loaded_model.evaluate(x_test, y_test) # Test the accuracy on test data"
   ]
  }
 ],
 "metadata": {
  "kernelspec": {
   "display_name": "Python 3",
   "language": "python",
   "name": "python3"
  },
  "language_info": {
   "codemirror_mode": {
    "name": "ipython",
    "version": 3
   },
   "file_extension": ".py",
   "mimetype": "text/x-python",
   "name": "python",
   "nbconvert_exporter": "python",
   "pygments_lexer": "ipython3",
   "version": "3.7.9"
  }
 },
 "nbformat": 4,
 "nbformat_minor": 4
}
